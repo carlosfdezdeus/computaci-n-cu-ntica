{
 "cells": [
  {
   "cell_type": "code",
   "execution_count": 1,
   "id": "981cd686",
   "metadata": {},
   "outputs": [],
   "source": [
    "import qiskit"
   ]
  },
  {
   "cell_type": "code",
   "execution_count": 2,
   "id": "1c55d10f",
   "metadata": {},
   "outputs": [
    {
     "data": {
      "text/plain": [
       "{'qiskit-terra': '0.25.3', 'qiskit': '0.44.3', 'qiskit-aer': None, 'qiskit-ignis': None, 'qiskit-ibmq-provider': '0.20.2', 'qiskit-nature': None, 'qiskit-finance': None, 'qiskit-optimization': None, 'qiskit-machine-learning': None}"
      ]
     },
     "execution_count": 2,
     "metadata": {},
     "output_type": "execute_result"
    }
   ],
   "source": [
    "qiskit.__qiskit_version__"
   ]
  },
  {
   "cell_type": "code",
   "execution_count": 3,
   "id": "4c08c514",
   "metadata": {},
   "outputs": [],
   "source": [
    "from qiskit_ibm_runtime import QiskitRuntimeService"
   ]
  },
  {
   "cell_type": "code",
   "execution_count": 4,
   "id": "8ed9b1b7",
   "metadata": {},
   "outputs": [],
   "source": [
    "# Guardar una cuenta IBM Quantum:\n",
    "QiskitRuntimeService.save_account(channel=\"ibm_quantum\", token=\"4dc4daf1486371810509958c29047597c874118fb71c99fe09256ecce282a83df79fe4015c06b59725166ab8b2ebd7fa8db5a9d83dd9086e6ced756516c1b7b4\", name=\"mi_cuenta_ibm_quantum\", overwrite=True)"
   ]
  },
  {
   "cell_type": "code",
   "execution_count": 5,
   "id": "746f0b8b",
   "metadata": {},
   "outputs": [],
   "source": [
    "# Cargar las credenciales guardadas:\n",
    "service = QiskitRuntimeService()"
   ]
  }
 ],
 "metadata": {
  "kernelspec": {
   "display_name": "Python 3 (ipykernel)",
   "language": "python",
   "name": "python3"
  },
  "language_info": {
   "codemirror_mode": {
    "name": "ipython",
    "version": 3
   },
   "file_extension": ".py",
   "mimetype": "text/x-python",
   "name": "python",
   "nbconvert_exporter": "python",
   "pygments_lexer": "ipython3",
   "version": "3.11.5"
  }
 },
 "nbformat": 4,
 "nbformat_minor": 5
}
