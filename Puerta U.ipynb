{
 "cells": [
  {
   "cell_type": "code",
   "execution_count": 3,
   "metadata": {},
   "outputs": [
    {
     "name": "stdout",
     "output_type": "stream",
     "text": [
      "Matriz U:\n",
      "[[ 0.87758256+0.j -0.47942554+0.j]\n",
      " [ 0.47942554+0.j  0.87758256+0.j]]\n"
     ]
    },
    {
     "data": {
      "image/png": "[encoded data removed]",
      "text/plain": [
       "<Figure size 185.453x117.056 with 1 Axes>"
      ]
     },
     "execution_count": 3,
     "metadata": {},
     "output_type": "execute_result"
    }
   ],
   "source": [
    "from qiskit import *\n",
    "from qiskit.tools.visualization import plot_bloch_multivector, plot_histogram\n",
    "from qiskit.quantum_info import Operator\n",
    "\n",
    "\n",
    "qc = QuantumCircuit(1)\n",
    "qc.u(theta=1, phi=0, lam=0, qubit=0)\n",
    "\n",
    "op = Operator(qc)\n",
    "print(\"Matriz U:\")\n",
    "print(op.data)\n",
    "\n",
    "%matplotlib inline\n",
    "qc.draw('mpl')\n"
   ]
  }
 ],
 "metadata": {
  "kernelspec": {
   "display_name": "base",
   "language": "python",
   "name": "python3"
  },
  "language_info": {
   "codemirror_mode": {
    "name": "ipython",
    "version": 3
   },
   "file_extension": ".py",
   "mimetype": "text/x-python",
   "name": "python",
   "nbconvert_exporter": "python",
   "pygments_lexer": "ipython3",
   "version": "3.11.5"
  }
 },
 "nbformat": 4,
 "nbformat_minor": 2
}
