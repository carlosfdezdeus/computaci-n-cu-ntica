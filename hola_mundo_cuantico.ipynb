{
 "cells": [
  {
   "cell_type": "code",
   "execution_count": 1,
   "id": "1d842343",
   "metadata": {},
   "outputs": [],
   "source": [
    "# Importo todo de qiskit\n",
    "from qiskit import *"
   ]
  },
  {
   "cell_type": "code",
   "execution_count": 2,
   "id": "f1484033",
   "metadata": {},
   "outputs": [],
   "source": [
    "# Creo un registro cuántico de 2 cubits\n",
    "qr = QuantumRegister(2)"
   ]
  },
  {
   "cell_type": "code",
   "execution_count": 3,
   "id": "be7624cc",
   "metadata": {},
   "outputs": [],
   "source": [
    "# Creo un registro clásico de 2 bits para tomar medidas de los cubits\n",
    "cr = ClassicalRegister(2)"
   ]
  },
  {
   "cell_type": "code",
   "execution_count": 4,
   "id": "cd4ad96b",
   "metadata": {},
   "outputs": [],
   "source": [
    "# Creamos un circuito utilizando ambos Registros:\n",
    "qc = QuantumCircuit(qr, cr)"
   ]
  },
  {
   "cell_type": "code",
   "execution_count": 5,
   "id": "e334d279",
   "metadata": {},
   "outputs": [
    {
     "data": {
      "text/html": [
       "<pre style=\"word-wrap: normal;white-space: pre;background: #fff0;line-height: 1.1;font-family: &quot;Courier New&quot;,Courier,monospace\">      \n",
       "q0_0: \n",
       "      \n",
       "q0_1: \n",
       "      \n",
       "c0: 2/\n",
       "      </pre>"
      ],
      "text/plain": [
       "      \n",
       "q0_0: \n",
       "      \n",
       "q0_1: \n",
       "      \n",
       "c0: 2/\n",
       "      "
      ]
     },
     "execution_count": 5,
     "metadata": {},
     "output_type": "execute_result"
    }
   ],
   "source": [
    "# Para poder ver nuestros dibujos\n",
    "%matplotlib inline      \n",
    "\n",
    "#Dibujamos el circuito cuántico\n",
    "qc.draw()"
   ]
  },
  {
   "cell_type": "code",
   "execution_count": 6,
   "id": "039b9b54",
   "metadata": {},
   "outputs": [
    {
     "data": {
      "text/plain": [
       "<qiskit.circuit.instructionset.InstructionSet at 0x12fb3c580>"
      ]
     },
     "execution_count": 6,
     "metadata": {},
     "output_type": "execute_result"
    }
   ],
   "source": [
    "# Creo una puerta de Hadamard en el cubit q0_0\n",
    "qc.h(qr[0])"
   ]
  },
  {
   "cell_type": "code",
   "execution_count": 7,
   "id": "9d8b75e0",
   "metadata": {},
   "outputs": [
    {
     "data": {
      "image/png": "[encoded data removed]",
      "text/plain": [
       "<Figure size 221.712x284.278 with 1 Axes>"
      ]
     },
     "execution_count": 7,
     "metadata": {},
     "output_type": "execute_result"
    }
   ],
   "source": [
    "# Dibujamos el circuito usando MatPlotLib:\n",
    "qc.draw(output='mpl')"
   ]
  },
  {
   "cell_type": "code",
   "execution_count": 8,
   "id": "4011503f",
   "metadata": {},
   "outputs": [
    {
     "data": {
      "text/plain": [
       "<qiskit.circuit.instructionset.InstructionSet at 0x12fd8e860>"
      ]
     },
     "execution_count": 8,
     "metadata": {},
     "output_type": "execute_result"
    }
   ],
   "source": [
    "# Creamos la operación: 'X controlada' \n",
    "#    Es como un if: if esto then otro\n",
    "#       qc.cx(control_operacion (qr[0]), objetivo_operación (qr[1]))\n",
    "qc.cx(qr[0], qr[1])"
   ]
  },
  {
   "cell_type": "code",
   "execution_count": 9,
   "id": "a2cd30c1",
   "metadata": {},
   "outputs": [
    {
     "data": {
      "image/png": "[encoded data removed]",
      "text/plain": [
       "<Figure size 305.323x284.278 with 1 Axes>"
      ]
     },
     "execution_count": 9,
     "metadata": {},
     "output_type": "execute_result"
    }
   ],
   "source": [
    "qc.draw(output='mpl')"
   ]
  },
  {
   "cell_type": "code",
   "execution_count": 10,
   "id": "4ab5e315",
   "metadata": {},
   "outputs": [
    {
     "data": {
      "text/plain": [
       "<qiskit.circuit.instructionset.InstructionSet at 0x12fe40b50>"
      ]
     },
     "execution_count": 10,
     "metadata": {},
     "output_type": "execute_result"
    }
   ],
   "source": [
    "# MEDIMOS los cubits del qr y GUARDAMOS en cr\n",
    "qc.measure(qr, cr)"
   ]
  },
  {
   "cell_type": "code",
   "execution_count": 11,
   "id": "c3a7f16c",
   "metadata": {},
   "outputs": [
    {
     "data": {
      "image/png": "[encoded data removed]",
      "text/plain": [
       "<Figure size 472.545x284.278 with 1 Axes>"
      ]
     },
     "execution_count": 11,
     "metadata": {},
     "output_type": "execute_result"
    }
   ],
   "source": [
    "qc.draw(output='mpl')"
   ]
  },
  {
   "cell_type": "code",
   "execution_count": 12,
   "id": "c3199d62",
   "metadata": {},
   "outputs": [],
   "source": [
    "# Importo el simulador de Qiskit:\n",
    "simulador = Aer.get_backend('qasm_simulator')"
   ]
  },
  {
   "cell_type": "code",
   "execution_count": 13,
   "id": "4ee32478",
   "metadata": {},
   "outputs": [],
   "source": [
    "#Ejecutamos el circuito y cogemos sus resultados:\n",
    "resultados = execute(qc, backend = simulador).result()"
   ]
  },
  {
   "cell_type": "code",
   "execution_count": 14,
   "id": "8c84164e",
   "metadata": {},
   "outputs": [],
   "source": [
    "# Importamos las herramientas de visualización de qiskit\n",
    "from qiskit.tools.visualization import plot_histogram"
   ]
  },
  {
   "cell_type": "code",
   "execution_count": 15,
   "id": "918d6c71",
   "metadata": {},
   "outputs": [
    {
     "data": {
      "image/png": "[encoded data removed]",
      "text/plain": [
       "<Figure size 700x500 with 1 Axes>"
      ]
     },
     "execution_count": 15,
     "metadata": {},
     "output_type": "execute_result"
    }
   ],
   "source": [
    "# Mostramos el resultado del circuito\n",
    "plot_histogram(resultados.get_counts(qc))\n",
    "    # Debe de dar una 50% a 00 y otro 50% a 11 (aprox.)"
   ]
  },
  {
   "cell_type": "code",
   "execution_count": null,
   "id": "0319e9b5",
   "metadata": {},
   "outputs": [],
   "source": [
    "# Probamos el circuito en el ordenador cuantico de IBM:\n"
   ]
  }
 ],
 "metadata": {
  "kernelspec": {
   "display_name": "Python 3 (ipykernel)",
   "language": "python",
   "name": "python3"
  },
  "language_info": {
   "codemirror_mode": {
    "name": "ipython",
    "version": 3
   },
   "file_extension": ".py",
   "mimetype": "text/x-python",
   "name": "python",
   "nbconvert_exporter": "python",
   "pygments_lexer": "ipython3",
   "version": "3.11.5"
  }
 },
 "nbformat": 4,
 "nbformat_minor": 5
}
