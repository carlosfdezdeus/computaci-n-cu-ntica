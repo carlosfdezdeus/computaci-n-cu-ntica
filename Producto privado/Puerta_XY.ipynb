{
 "cells": [
  {
   "cell_type": "markdown",
   "metadata": {},
   "source": [
    "# Puerta XY\n",
    "$$X = \\sigma_x = \\left(\\begin{array}{cc} 0 & 1 \\\\ 1 & 0 \\end{array}\\right)\\ \\ \\ \\ \\ \\ \\ \\ Y = \\sigma_y = \\left(\\begin{array}{cc} 0 & -i \\\\ i & 0 \\end{array}\\right)$$\n",
    "\n",
    "$$XY = X·Y = \\sigma_x · \\sigma_y= \\left(\\begin{array}{cc} 0 & 1 \\\\ 1 & 0 \\end{array}\\right)·\\left(\\begin{array}{cc} 0 & -i \\\\ i & 0 \\end{array}\\right) = \\left(\\begin{array}{cc} i & 0 \\\\ 0 & -i \\end{array}\\right)$$\n",
    "\n",
    "Un ejemplo de uso sería el siguiente:\n",
    "$$XY \\left| 0 \\right> =  \\left| i \\right>$$"
   ]
  },
  {
   "cell_type": "code",
   "execution_count": 10,
   "metadata": {},
   "outputs": [
    {
     "data": {
      "image/png": "[encoded data removed]",
      "text/plain": [
       "<Figure size 287.496x117.056 with 1 Axes>"
      ]
     },
     "execution_count": 10,
     "metadata": {},
     "output_type": "execute_result"
    }
   ],
   "source": [
    "# Importo todo de qiskit\n",
    "from qiskit import *\n",
    "from qiskit.tools.visualization import plot_bloch_multivector, plot_histogram\n",
    "\n",
    "\n",
    "# Creo un circuito cuántico de 1 bit y aplico X·Y\n",
    "qr = QuantumRegister(1)\n",
    "qc = QuantumCircuit(qr, name=\"XY\")\n",
    "qc.x(0)\n",
    "qc.y(0)\n",
    "\n",
    "# Dibujo el circuito\n",
    "%matplotlib inline\n",
    "qc.draw(output='mpl')\n",
    "\n"
   ]
  },
  {
   "cell_type": "code",
   "execution_count": 11,
   "metadata": {},
   "outputs": [
    {
     "data": {
      "image/png": "[encoded data removed]",
      "text/plain": [
       "<Figure size 185.453x117.056 with 1 Axes>"
      ]
     },
     "execution_count": 11,
     "metadata": {},
     "output_type": "execute_result"
    }
   ],
   "source": [
    "# Renombro el circuito:\n",
    "XY_gate = qc\n",
    "\n",
    "qc2 = QuantumCircuit(1)\n",
    "qc2.append(XY_gate, [0])\n",
    "\n",
    "%matplotlib inline\n",
    "qc2.draw(output='mpl')"
   ]
  }
 ],
 "metadata": {
  "kernelspec": {
   "display_name": "base",
   "language": "python",
   "name": "python3"
  },
  "language_info": {
   "codemirror_mode": {
    "name": "ipython",
    "version": 3
   },
   "file_extension": ".py",
   "mimetype": "text/x-python",
   "name": "python",
   "nbconvert_exporter": "python",
   "pygments_lexer": "ipython3",
   "version": "3.11.5"
  }
 },
 "nbformat": 4,
 "nbformat_minor": 2
}
