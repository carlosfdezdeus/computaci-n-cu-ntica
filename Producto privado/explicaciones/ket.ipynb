{
 "cells": [
  {
   "cell_type": "code",
   "execution_count": 2,
   "metadata": {},
   "outputs": [
    {
     "name": "stdout",
     "output_type": "stream",
     "text": [
      "[[0.]\n",
      " [1.]\n",
      " [0.]\n",
      " [0.]\n",
      " [0.]\n",
      " [0.]\n",
      " [0.]\n",
      " [0.]]\n"
     ]
    },
    {
     "data": {
      "text/plain": [
       "array([[0.],\n",
       "       [1.],\n",
       "       [0.],\n",
       "       [0.],\n",
       "       [0.],\n",
       "       [0.],\n",
       "       [0.],\n",
       "       [0.]])"
      ]
     },
     "execution_count": 2,
     "metadata": {},
     "output_type": "execute_result"
    }
   ],
   "source": [
    "import numpy as np\n",
    "\n",
    "def ket_i(dim,i):\n",
    "    dim = 2**dim\n",
    "    matriz = np.zeros((dim,1))\n",
    "    matriz[i,0] = 1\n",
    "    print(matriz)\n",
    "\n",
    "    return matriz\n",
    "\n",
    "ket_i(3,1)"
   ]
  },
  {
   "cell_type": "code",
   "execution_count": 6,
   "metadata": {},
   "outputs": [
    {
     "data": {
      "image/png": "[encoded data removed]",
      "text/plain": [
       "<Figure size 287.496x367.889 with 1 Axes>"
      ]
     },
     "execution_count": 6,
     "metadata": {},
     "output_type": "execute_result"
    }
   ],
   "source": [
    "from qiskit import * \n",
    "from qiskit.quantum_info.states import Statevector\n",
    "%matplotlib inline\n",
    "\n",
    "i = Statevector.from_label('000')\n",
    "i\n",
    "\n",
    "qc = QuantumCircuit(3,3)\n",
    "qc.initialize(i.data, [0,1,2])\n",
    "qc.draw('mpl')"
   ]
  },
  {
   "cell_type": "code",
   "execution_count": 4,
   "metadata": {},
   "outputs": [
    {
     "name": "stdout",
     "output_type": "stream",
     "text": [
      "[[0.]\n",
      " [0.]\n",
      " [0.]\n",
      " [0.]\n",
      " [1.]]\n"
     ]
    },
    {
     "ename": "ExtensionError",
     "evalue": "'Input matrix is not an N-qubit operator.'",
     "output_type": "error",
     "traceback": [
      "\u001b[0;31m---------------------------------------------------------------------------\u001b[0m",
      "\u001b[0;31mExtensionError\u001b[0m                            Traceback (most recent call last)",
      "Cell \u001b[0;32mIn[4], line 14\u001b[0m\n\u001b[1;32m     12\u001b[0m qc \u001b[38;5;241m=\u001b[39m QuantumCircuit(\u001b[38;5;241m1\u001b[39m,\u001b[38;5;241m1\u001b[39m)\n\u001b[1;32m     13\u001b[0m \u001b[38;5;66;03m#qc.append(i,[0])\u001b[39;00m\n\u001b[0;32m---> 14\u001b[0m qc\u001b[38;5;241m.\u001b[39munitary(i, [\u001b[38;5;241m0\u001b[39m], label\u001b[38;5;241m=\u001b[39m\u001b[38;5;124m\"\u001b[39m\u001b[38;5;124mi\u001b[39m\u001b[38;5;124m\"\u001b[39m)\n\u001b[1;32m     15\u001b[0m qc\u001b[38;5;241m.\u001b[39mdraw(\u001b[38;5;124m'\u001b[39m\u001b[38;5;124mmpl\u001b[39m\u001b[38;5;124m'\u001b[39m)\n",
      "File \u001b[0;32m~/anaconda3/lib/python3.11/site-packages/qiskit/extensions/unitary.py:214\u001b[0m, in \u001b[0;36munitary\u001b[0;34m(self, obj, qubits, label)\u001b[0m\n\u001b[1;32m    185\u001b[0m \u001b[38;5;28;01mdef\u001b[39;00m \u001b[38;5;21munitary\u001b[39m(\u001b[38;5;28mself\u001b[39m, obj, qubits, label\u001b[38;5;241m=\u001b[39m\u001b[38;5;28;01mNone\u001b[39;00m):\n\u001b[1;32m    186\u001b[0m \u001b[38;5;250m    \u001b[39m\u001b[38;5;124;03m\"\"\"Apply unitary gate specified by ``obj`` to ``qubits``.\u001b[39;00m\n\u001b[1;32m    187\u001b[0m \n\u001b[1;32m    188\u001b[0m \u001b[38;5;124;03m    Args:\u001b[39;00m\n\u001b[0;32m   (...)\u001b[0m\n\u001b[1;32m    212\u001b[0m \u001b[38;5;124;03m            circuit.unitary(matrix, [0, 1])\u001b[39;00m\n\u001b[1;32m    213\u001b[0m \u001b[38;5;124;03m    \"\"\"\u001b[39;00m\n\u001b[0;32m--> 214\u001b[0m     gate \u001b[38;5;241m=\u001b[39m UnitaryGate(obj, label\u001b[38;5;241m=\u001b[39mlabel)\n\u001b[1;32m    215\u001b[0m     \u001b[38;5;28;01mif\u001b[39;00m \u001b[38;5;28misinstance\u001b[39m(qubits, QuantumRegister):\n\u001b[1;32m    216\u001b[0m         qubits \u001b[38;5;241m=\u001b[39m qubits[:]\n",
      "File \u001b[0;32m~/anaconda3/lib/python3.11/site-packages/qiskit/extensions/unitary.py:87\u001b[0m, in \u001b[0;36mUnitaryGate.__init__\u001b[0;34m(self, data, label)\u001b[0m\n\u001b[1;32m     85\u001b[0m num_qubits \u001b[38;5;241m=\u001b[39m \u001b[38;5;28mint\u001b[39m(numpy\u001b[38;5;241m.\u001b[39mlog2(input_dim))\n\u001b[1;32m     86\u001b[0m \u001b[38;5;28;01mif\u001b[39;00m input_dim \u001b[38;5;241m!=\u001b[39m output_dim \u001b[38;5;129;01mor\u001b[39;00m \u001b[38;5;241m2\u001b[39m\u001b[38;5;241m*\u001b[39m\u001b[38;5;241m*\u001b[39mnum_qubits \u001b[38;5;241m!=\u001b[39m input_dim:\n\u001b[0;32m---> 87\u001b[0m     \u001b[38;5;28;01mraise\u001b[39;00m ExtensionError(\u001b[38;5;124m\"\u001b[39m\u001b[38;5;124mInput matrix is not an N-qubit operator.\u001b[39m\u001b[38;5;124m\"\u001b[39m)\n\u001b[1;32m     89\u001b[0m \u001b[38;5;66;03m# Store instruction params\u001b[39;00m\n\u001b[1;32m     90\u001b[0m \u001b[38;5;28msuper\u001b[39m()\u001b[38;5;241m.\u001b[39m\u001b[38;5;21m__init__\u001b[39m(\u001b[38;5;124m\"\u001b[39m\u001b[38;5;124munitary\u001b[39m\u001b[38;5;124m\"\u001b[39m, num_qubits, [data], label\u001b[38;5;241m=\u001b[39mlabel)\n",
      "\u001b[0;31mExtensionError\u001b[0m: 'Input matrix is not an N-qubit operator.'"
     ]
    }
   ],
   "source": [
    "# from qiskit import * \n",
    "# from qiskit.quantum_info.operators import Operator\n",
    "\n",
    "# # Creo la matriz U\n",
    "# dim = 5\n",
    "# i = 4\n",
    "\n",
    "# matriz_i = ket_i(dim, i)\n",
    "# i = Operator(matriz_i)\n",
    "# i\n",
    "\n",
    "# qc = QuantumCircuit(1,1)\n",
    "# #qc.append(i,[0])\n",
    "# qc.unitary(i, [0], label=\"i\")\n",
    "# qc.draw('mpl')\n",
    "\n",
    "# Creo un circuito cuántico para usar la puerta U\n",
    "# qc = QuantumCircuit(6,6)\n",
    "# qc.unitary(U, [0,1,2,3,4,5,6], label=\"U\")\n",
    "# qc.draw('mpl')\n",
    "\n",
    "\n"
   ]
  },
  {
   "cell_type": "code",
   "execution_count": 5,
   "metadata": {},
   "outputs": [
    {
     "data": {
      "image/png": "[encoded data removed]",
      "text/plain": [
       "<Figure size 287.496x367.889 with 1 Axes>"
      ]
     },
     "execution_count": 5,
     "metadata": {},
     "output_type": "execute_result"
    }
   ],
   "source": []
  }
 ],
 "metadata": {
  "kernelspec": {
   "display_name": "Python 3",
   "language": "python",
   "name": "python3"
  },
  "language_info": {
   "codemirror_mode": {
    "name": "ipython",
    "version": 3
   },
   "file_extension": ".py",
   "mimetype": "text/x-python",
   "name": "python",
   "nbconvert_exporter": "python",
   "pygments_lexer": "ipython3",
   "version": "3.11.5"
  }
 },
 "nbformat": 4,
 "nbformat_minor": 2
}
