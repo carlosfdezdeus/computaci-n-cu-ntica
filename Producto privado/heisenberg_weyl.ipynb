{
 "cells": [
  {
   "cell_type": "code",
   "execution_count": 44,
   "metadata": {},
   "outputs": [
    {
     "ename": "TypeError",
     "evalue": "QuantumCircuit.u() missing 2 required positional arguments: 'phi' and 'lam'",
     "output_type": "error",
     "traceback": [
      "\u001b[0;31m---------------------------------------------------------------------------\u001b[0m",
      "\u001b[0;31mTypeError\u001b[0m                                 Traceback (most recent call last)",
      "\u001b[1;32m/Users/carlosfdezdeus/Documents/Teleco/4 Teleco/NST - Nuevos Servicios Telemáticos/Computacion cuantica/Producto privado/heisenberg_weyl.ipynb Celda 1\u001b[0m line \u001b[0;36m1\n\u001b[1;32m     <a href='vscode-notebook-cell:/Users/carlosfdezdeus/Documents/Teleco/4%20Teleco/NST%20-%20Nuevos%20Servicios%20Telem%C3%A1ticos/Computacion%20cuantica/Producto%20privado/heisenberg_weyl.ipynb#W0sZmlsZQ%3D%3D?line=13'>14</a>\u001b[0m qc\u001b[39m.\u001b[39mdraw(\u001b[39m'\u001b[39m\u001b[39mmpl\u001b[39m\u001b[39m'\u001b[39m)\n\u001b[1;32m     <a href='vscode-notebook-cell:/Users/carlosfdezdeus/Documents/Teleco/4%20Teleco/NST%20-%20Nuevos%20Servicios%20Telem%C3%A1ticos/Computacion%20cuantica/Producto%20privado/heisenberg_weyl.ipynb#W0sZmlsZQ%3D%3D?line=15'>16</a>\u001b[0m alpha \u001b[39m=\u001b[39m \u001b[39m1.00\u001b[39m\n\u001b[0;32m---> <a href='vscode-notebook-cell:/Users/carlosfdezdeus/Documents/Teleco/4%20Teleco/NST%20-%20Nuevos%20Servicios%20Telem%C3%A1ticos/Computacion%20cuantica/Producto%20privado/heisenberg_weyl.ipynb#W0sZmlsZQ%3D%3D?line=17'>18</a>\u001b[0m qc\u001b[39m.\u001b[39mu(theta\u001b[39m=\u001b[39m\u001b[39m1.00\u001b[39m, qubit\u001b[39m=\u001b[39m\u001b[39m0\u001b[39m)\n\u001b[1;32m     <a href='vscode-notebook-cell:/Users/carlosfdezdeus/Documents/Teleco/4%20Teleco/NST%20-%20Nuevos%20Servicios%20Telem%C3%A1ticos/Computacion%20cuantica/Producto%20privado/heisenberg_weyl.ipynb#W0sZmlsZQ%3D%3D?line=18'>19</a>\u001b[0m get_ipython()\u001b[39m.\u001b[39mrun_line_magic(\u001b[39m'\u001b[39m\u001b[39mmatplotlib\u001b[39m\u001b[39m'\u001b[39m, \u001b[39m'\u001b[39m\u001b[39minline\u001b[39m\u001b[39m'\u001b[39m)\n\u001b[1;32m     <a href='vscode-notebook-cell:/Users/carlosfdezdeus/Documents/Teleco/4%20Teleco/NST%20-%20Nuevos%20Servicios%20Telem%C3%A1ticos/Computacion%20cuantica/Producto%20privado/heisenberg_weyl.ipynb#W0sZmlsZQ%3D%3D?line=19'>20</a>\u001b[0m qc\u001b[39m.\u001b[39mdraw(\u001b[39m'\u001b[39m\u001b[39mmpl\u001b[39m\u001b[39m'\u001b[39m)\n",
      "\u001b[0;31mTypeError\u001b[0m: QuantumCircuit.u() missing 2 required positional arguments: 'phi' and 'lam'"
     ]
    }
   ],
   "source": [
    "# Importo todo de qiskiy y las funciones .py con las puertas\n",
    "from qiskit import *\n",
    "from qiskit.tools.visualization import plot_bloch_multivector, plot_histogram\n",
    "from XY_function import XY_gate\n",
    "\n",
    "# Defino la puerta XY\n",
    "XY = XY_gate()\n",
    "\n",
    "# Creo un circuito cuantico de 2 cubits\n",
    "qc = QuantumCircuit(2)\n",
    "qc.append(XY, [0])\n",
    "\n",
    "%matplotlib inline\n",
    "qc.draw('mpl')\n",
    "\n",
    "alpha = 1.00\n",
    "\n",
    "qc.u(theta=1.00, qubit=0)\n",
    "%matplotlib inline\n",
    "qc.draw('mpl')\n"
   ]
  }
 ],
 "metadata": {
  "kernelspec": {
   "display_name": "base",
   "language": "python",
   "name": "python3"
  },
  "language_info": {
   "codemirror_mode": {
    "name": "ipython",
    "version": 3
   },
   "file_extension": ".py",
   "mimetype": "text/x-python",
   "name": "python",
   "nbconvert_exporter": "python",
   "pygments_lexer": "ipython3",
   "version": "3.11.5"
  }
 },
 "nbformat": 4,
 "nbformat_minor": 2
}
