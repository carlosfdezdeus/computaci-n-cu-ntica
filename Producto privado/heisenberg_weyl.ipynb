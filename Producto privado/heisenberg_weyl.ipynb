{
 "cells": [
  {
   "cell_type": "markdown",
   "metadata": {},
   "source": [
    "# Operadores de Heysenberg Weyl\n",
    "$$\\left | i \\right> → \\left | i + α \\right>$$\n",
    "\n",
    "Los operadores de Heysenberg Weyl, conformarán en el producto privado las puertas X(α) y Z(β), respectivamente. Estas nos serán utilies para conseguir que Charlie pueda realizar el producto de forma que no tenga que realizar una medida sobre los cubits, estableciendo así su estado, ni tenga que conocer los número 'a' y 'b' que envían respectivamente Alis y Bob.\n",
    "\n",
    "Cabe destacar que para conseguir el estado $\\left | i \\right>$, antes de ha de pasar por una combinación de puertas Pauli X y Pauli Y.\n",
    "\n",
    "$$X = \\sigma_x = \\left(\\begin{array}{cc} 0 & 1 \\\\ 1 & 0 \\end{array}\\right)\\ \\ \\ \\ \\ \\ \\ \\ Y = \\sigma_y = \\left(\\begin{array}{cc} 0 & -i \\\\ i & 0 \\end{array}\\right)$$\n",
    "\n",
    "$$XY = X·Y = \\sigma_x · \\sigma_y= \\left(\\begin{array}{cc} 0 & 1 \\\\ 1 & 0 \\end{array}\\right)·\\left(\\begin{array}{cc} 0 & -i \\\\ i & 0 \\end{array}\\right) = \\left(\\begin{array}{cc} i & 0 \\\\ 0 & -i \\end{array}\\right)$$\n",
    "\n",
    "Por tanto el estado $\\left | i \\right>$ se conseguiría así:\n",
    "$$XY \\left| 0 \\right> =  \\left| i \\right>,siendo \\left| i \\right> = \\left(\\begin{array}{c} i \\\\ 0 \\end{array}\\right)$$"
   ]
  },
  {
   "cell_type": "code",
   "execution_count": 1,
   "metadata": {},
   "outputs": [
    {
     "data": {
      "image/png": "[encoded data removed]",
      "text/plain": [
       "<Figure size 203.683x200.667 with 1 Axes>"
      ]
     },
     "execution_count": 1,
     "metadata": {},
     "output_type": "execute_result"
    }
   ],
   "source": [
    "\n",
    "# Importo todo de qiskiy y las funciones .py con las puertas\n",
    "from qiskit import *\n",
    "from qiskit.tools.visualization import plot_bloch_multivector, plot_histogram\n",
    "from XY_function import XY_gate\n",
    "\n",
    "# Defino la puerta XY\n",
    "XY = XY_gate()\n",
    "\n",
    "# Creo un circuito cuantico de 2 cubits\n",
    "qc = QuantumCircuit(2)\n",
    "qc.append(XY, [0])\n",
    "\n",
    "%matplotlib inline\n",
    "qc.draw('mpl')\n",
    "\n"
   ]
  }
 ],
 "metadata": {
  "kernelspec": {
   "display_name": "base",
   "language": "python",
   "name": "python3"
  },
  "language_info": {
   "codemirror_mode": {
    "name": "ipython",
    "version": 3
   },
   "file_extension": ".py",
   "mimetype": "text/x-python",
   "name": "python",
   "nbconvert_exporter": "python",
   "pygments_lexer": "ipython3",
   "version": "3.11.5"
  }
 },
 "nbformat": 4,
 "nbformat_minor": 2
}
